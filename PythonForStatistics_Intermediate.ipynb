{
  "nbformat": 4,
  "nbformat_minor": 0,
  "metadata": {
    "colab": {
      "provenance": [],
      "authorship_tag": "ABX9TyPAZc39fc1dLUdM0QdEj9gJ",
      "include_colab_link": true
    },
    "kernelspec": {
      "name": "python3",
      "display_name": "Python 3"
    },
    "language_info": {
      "name": "python"
    }
  },
  "cells": [
    {
      "cell_type": "markdown",
      "metadata": {
        "id": "view-in-github",
        "colab_type": "text"
      },
      "source": [
        "<a href=\"https://colab.research.google.com/github/dbredden/Statistics/blob/main/PythonForStatistics_Intermediate.ipynb\" target=\"_parent\"><img src=\"https://colab.research.google.com/assets/colab-badge.svg\" alt=\"Open In Colab\"/></a>"
      ]
    },
    {
      "cell_type": "markdown",
      "source": [
        "# While Loops\n"
      ],
      "metadata": {
        "id": "vvwYzIOvaCB0"
      }
    },
    {
      "cell_type": "code",
      "source": [
        "# Uber Driver\n",
        "people_in_car = 0\n",
        "\n",
        "while people_in_car < 5:\n",
        "  print(f\"People in the car {people_in_car}\")\n",
        "  people_in_car += 1\n",
        "\n",
        "print(\"The car is full\")"
      ],
      "metadata": {
        "id": "Qgvb_FSGaEvr"
      },
      "execution_count": null,
      "outputs": []
    },
    {
      "cell_type": "code",
      "source": [
        "#Print the even numbers until 20\n",
        "n = 20\n",
        "i = 0\n",
        "\n",
        "while i <= 20:\n",
        "  i += 1\n",
        "  if i % 2 == 0:\n",
        "    print(i)\n",
        "  else:\n",
        "    print(\"The number is not even\")"
      ],
      "metadata": {
        "id": "hJ5UeF3tatKO"
      },
      "execution_count": null,
      "outputs": []
    },
    {
      "cell_type": "markdown",
      "source": [
        "# Exercise: Create a countdown timer from 10 to 0"
      ],
      "metadata": {
        "id": "eCswTXaDbpa0"
      }
    },
    {
      "cell_type": "code",
      "source": [
        "# Countdown timer from 10 to 0\n",
        "n = 11\n",
        "import time\n",
        "\n",
        "while n > 0:\n",
        "  n-=1\n",
        "  print(f\"{n}\")\n",
        "\n",
        "  time.sleep(1)"
      ],
      "metadata": {
        "id": "6DUWU8p0bsLJ"
      },
      "execution_count": null,
      "outputs": []
    },
    {
      "cell_type": "markdown",
      "source": [
        "# Python Lists"
      ],
      "metadata": {
        "id": "8AxPttYFeEX7"
      }
    },
    {
      "cell_type": "code",
      "source": [
        "# Simple List\n",
        "numbers = [1, 2, 3, 4, 5]"
      ],
      "metadata": {
        "id": "K54qtmSheF9j"
      },
      "execution_count": null,
      "outputs": []
    },
    {
      "cell_type": "code",
      "source": [
        "# mixed list\n",
        "mixed_list = [42, \"Hello\", 3.14, True]\n",
        "print(mixed_list)"
      ],
      "metadata": {
        "colab": {
          "base_uri": "https://localhost:8080/"
        },
        "id": "0OUhH5HmtAZu",
        "outputId": "840fbb2b-b1a6-4ab6-a633-82e261f34973"
      },
      "execution_count": null,
      "outputs": [
        {
          "output_type": "stream",
          "name": "stdout",
          "text": [
            "[42, 'Hello', 3.14, True]\n"
          ]
        }
      ]
    },
    {
      "cell_type": "code",
      "source": [
        "# Accessing the list\n",
        "# You can get specific items using their index\n",
        "# Start with index 0 for the first item\n",
        "\n",
        "print(numbers[0])\n",
        "print(mixed_list[2])"
      ],
      "metadata": {
        "colab": {
          "base_uri": "https://localhost:8080/"
        },
        "id": "PVzZoBQrtg7t",
        "outputId": "7bd26504-c2eb-4272-9e1c-1de4d2455398"
      },
      "execution_count": null,
      "outputs": [
        {
          "output_type": "stream",
          "name": "stdout",
          "text": [
            "1\n",
            "3.14\n"
          ]
        }
      ]
    },
    {
      "cell_type": "code",
      "source": [
        "# slicing\n",
        "# grabbing a portion of the list.\n",
        "# End of the list is not included\n",
        "numbers = [1, 2, 3, 4, 5]\n",
        "print(numbers[1:4])"
      ],
      "metadata": {
        "colab": {
          "base_uri": "https://localhost:8080/"
        },
        "id": "rPxPzQzytve1",
        "outputId": "3bf676cd-f95c-4f64-8c45-01b650adad31"
      },
      "execution_count": null,
      "outputs": [
        {
          "output_type": "stream",
          "name": "stdout",
          "text": [
            "[2, 3, 4]\n"
          ]
        }
      ]
    },
    {
      "cell_type": "code",
      "source": [
        "# Modifying\n",
        "# List are mutable -> you can change them\n",
        "# assigning a new value via their index\n",
        "\n",
        "numbers[0] = 100\n",
        "print(numbers)"
      ],
      "metadata": {
        "colab": {
          "base_uri": "https://localhost:8080/"
        },
        "id": "Xg9o9KWtt-Px",
        "outputId": "6df70cbd-8cb6-4842-8cd5-ba21884849ee"
      },
      "execution_count": null,
      "outputs": [
        {
          "output_type": "stream",
          "name": "stdout",
          "text": [
            "[100, 2, 3, 4, 5]\n"
          ]
        }
      ]
    },
    {
      "cell_type": "code",
      "source": [
        "# adding items to the list\n",
        "# append method\n",
        "numbers.append(6)\n",
        "print(numbers)\n"
      ],
      "metadata": {
        "colab": {
          "base_uri": "https://localhost:8080/"
        },
        "id": "4m1Lq3YjuUiZ",
        "outputId": "772f184f-40cb-458b-b4f9-d1e2db9847a3"
      },
      "execution_count": null,
      "outputs": [
        {
          "output_type": "stream",
          "name": "stdout",
          "text": [
            "[100, 2, 3, 4, 5, 6]\n"
          ]
        }
      ]
    },
    {
      "cell_type": "code",
      "source": [
        "# concatenate with the +\n",
        "numbers = numbers + [10, 23, 43]\n",
        "print(numbers)"
      ],
      "metadata": {
        "colab": {
          "base_uri": "https://localhost:8080/"
        },
        "id": "-HqONz5hucSr",
        "outputId": "09db3e35-2fe5-4895-82be-dd80bdd7b69d"
      },
      "execution_count": null,
      "outputs": [
        {
          "output_type": "stream",
          "name": "stdout",
          "text": [
            "[100, 2, 3, 4, 5, 6, 10, 23, 43]\n"
          ]
        }
      ]
    },
    {
      "cell_type": "code",
      "source": [
        "# remove items\n",
        "# del method\n",
        "del numbers[0]\n",
        "print(numbers)"
      ],
      "metadata": {
        "colab": {
          "base_uri": "https://localhost:8080/"
        },
        "id": "1mwxnXrfuqze",
        "outputId": "7ea06532-d178-471d-8f3d-dfb447bcfdee"
      },
      "execution_count": null,
      "outputs": [
        {
          "output_type": "stream",
          "name": "stdout",
          "text": [
            "[3, 4, 5, 6, 10, 23, 43]\n"
          ]
        }
      ]
    },
    {
      "cell_type": "code",
      "source": [
        "# remove a specific item\n",
        "numbers.remove(4)\n",
        "print(numbers)"
      ],
      "metadata": {
        "colab": {
          "base_uri": "https://localhost:8080/"
        },
        "id": "BreLplYyu0T9",
        "outputId": "f7b0884b-9071-46fa-b182-cac6f032af63"
      },
      "execution_count": null,
      "outputs": [
        {
          "output_type": "stream",
          "name": "stdout",
          "text": [
            "[3, 5, 10, 23, 43]\n"
          ]
        }
      ]
    },
    {
      "cell_type": "code",
      "source": [
        "# using the pop\n",
        "last_number = numbers.pop()\n",
        "print(numbers)\n",
        "print(last_number)"
      ],
      "metadata": {
        "colab": {
          "base_uri": "https://localhost:8080/"
        },
        "id": "pQ7RZpsvvAkx",
        "outputId": "d11fe825-2e57-4d76-aa79-d52cb2f9c771"
      },
      "execution_count": null,
      "outputs": [
        {
          "output_type": "stream",
          "name": "stdout",
          "text": [
            "[3, 5, 10, 23]\n",
            "43\n"
          ]
        }
      ]
    },
    {
      "cell_type": "code",
      "source": [
        "# pop with a speicific index\n",
        "some_number = numbers.pop(-2)\n",
        "print(numbers)\n",
        "print(some_number)"
      ],
      "metadata": {
        "colab": {
          "base_uri": "https://localhost:8080/"
        },
        "id": "VcMDwQpZvTyu",
        "outputId": "93d54ce3-fa2d-4484-c9ac-e32f0b5c4f50"
      },
      "execution_count": null,
      "outputs": [
        {
          "output_type": "stream",
          "name": "stdout",
          "text": [
            "[3, 5, 23]\n",
            "10\n"
          ]
        }
      ]
    },
    {
      "cell_type": "code",
      "source": [
        "# Monthly Expense report\n",
        "# compute the total expenses\n",
        "# compute the average spending for the month\n",
        "\n",
        "#Expense report\n",
        "monthly_expenses = [1200, 1350, 1050, 1450, 1150, 900, 1220]\n",
        "\n",
        "total_expense_amount = sum(monthly_expenses)\n",
        "total_expenses = len(monthly_expenses)\n",
        "average_expense = total_expense_amount / total_expenses\n",
        "\n",
        "print(total_expense_amount)\n",
        "print(total_expenses)\n",
        "print(average_expense)"
      ],
      "metadata": {
        "id": "nfGUGehtF3NV"
      },
      "execution_count": null,
      "outputs": []
    },
    {
      "cell_type": "code",
      "source": [
        "# Print the first 10 Fibonacci numbers\n",
        "a = 1\n",
        "b = 1\n",
        "fib = []\n",
        "\n",
        "while len(fib) < 10:\n",
        "  fib.append(a)\n",
        "  c = a + b\n",
        "  a = b\n",
        "  b = c\n",
        "  print(fib)\n",
        "\n"
      ],
      "metadata": {
        "id": "jHKbUFALMd-k"
      },
      "execution_count": null,
      "outputs": []
    },
    {
      "cell_type": "markdown",
      "source": [
        "# Randomization"
      ],
      "metadata": {
        "id": "xW7LCfm7PS29"
      }
    },
    {
      "cell_type": "code",
      "source": [
        "import random"
      ],
      "metadata": {
        "id": "FDKoFIgkPRQk"
      },
      "execution_count": null,
      "outputs": []
    },
    {
      "cell_type": "code",
      "source": [
        "# Generate a random float between 0 and 1\n",
        "random_float = random.random()\n",
        "print(random_float)"
      ],
      "metadata": {
        "id": "KvJ0T1fnPXM6"
      },
      "execution_count": null,
      "outputs": []
    },
    {
      "cell_type": "code",
      "source": [
        "# generate a random int\n",
        "random_int = random.randint(1,10)\n",
        "print(random_int)"
      ],
      "metadata": {
        "colab": {
          "base_uri": "https://localhost:8080/"
        },
        "id": "B9cmAhanPxX9",
        "outputId": "07782c3b-c563-4d6d-e9e2-4f785f985685"
      },
      "execution_count": null,
      "outputs": [
        {
          "output_type": "stream",
          "name": "stdout",
          "text": [
            "3\n"
          ]
        }
      ]
    },
    {
      "cell_type": "code",
      "source": [
        "# generate a random float within a range\n",
        "random_float_range = random.uniform(1,20)\n",
        "print(random_float_range)"
      ],
      "metadata": {
        "colab": {
          "base_uri": "https://localhost:8080/"
        },
        "id": "ahnyB3I3P0tx",
        "outputId": "42650682-92c1-40f0-f995-2977678f4f00"
      },
      "execution_count": null,
      "outputs": [
        {
          "output_type": "stream",
          "name": "stdout",
          "text": [
            "10.594595018193127\n"
          ]
        }
      ]
    },
    {
      "cell_type": "code",
      "source": [
        "# random element from a list\n",
        "my_list = ['apple', 'banana', 'cherry', 'orange']\n",
        "random.choice(my_list)"
      ],
      "metadata": {
        "colab": {
          "base_uri": "https://localhost:8080/",
          "height": 35
        },
        "id": "WQ1bjvQ0QBox",
        "outputId": "dde0ce9c-df9d-4fdb-c5d6-e83281b30b24"
      },
      "execution_count": null,
      "outputs": [
        {
          "output_type": "execute_result",
          "data": {
            "text/plain": [
              "'apple'"
            ],
            "application/vnd.google.colaboratory.intrinsic+json": {
              "type": "string"
            }
          },
          "metadata": {},
          "execution_count": 17
        }
      ]
    },
    {
      "cell_type": "code",
      "source": [
        "# shuffle\n",
        "my_numbers = [1,2,3,4,5]\n",
        "random.shuffle(my_numbers)\n",
        "my_numbers"
      ],
      "metadata": {
        "colab": {
          "base_uri": "https://localhost:8080/"
        },
        "id": "RT5prJ5OQNDF",
        "outputId": "5d881569-ab58-46d9-98af-ff4612840770"
      },
      "execution_count": null,
      "outputs": [
        {
          "output_type": "execute_result",
          "data": {
            "text/plain": [
              "[3, 4, 5, 2, 1]"
            ]
          },
          "metadata": {},
          "execution_count": 18
        }
      ]
    },
    {
      "cell_type": "code",
      "source": [
        "# Choosing multiple elements from a list (aka sampling)\n",
        "random.sample(my_numbers,3)\n"
      ],
      "metadata": {
        "colab": {
          "base_uri": "https://localhost:8080/"
        },
        "id": "zFqmP9XdQV2n",
        "outputId": "373a7b9e-368d-448c-a7f2-e0ad1821b60c"
      },
      "execution_count": null,
      "outputs": [
        {
          "output_type": "execute_result",
          "data": {
            "text/plain": [
              "[4, 3, 2]"
            ]
          },
          "metadata": {},
          "execution_count": 19
        }
      ]
    }
  ]
}